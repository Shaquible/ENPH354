{
 "cells": [
  {
   "cell_type": "code",
   "execution_count": 11,
   "metadata": {},
   "outputs": [],
   "source": [
    "import numpy as np\n",
    "import matplotlib.pyplot as plt\n",
    "import os"
   ]
  },
  {
   "cell_type": "code",
   "execution_count": 12,
   "metadata": {},
   "outputs": [],
   "source": [
    "def get_IV_light(filename):\n",
    "    # Read the data from the file\n",
    "    Params = np.loadtxt(filename, dtype=\"str\" , delimiter=',', skiprows=1, max_rows=1)\n",
    "    IV = np.loadtxt(filename, dtype=\"float\" , delimiter=',', skiprows=3)\n",
    "    I = IV[:,1]\n",
    "    V = IV[:,0]\n",
    "    Isc = float(Params[0].split('=')[1])\n",
    "    Voc = float(Params[1].split('=')[1])\n",
    "    FF = float(Params[2].split('=')[1])\n",
    "    Rs = float(Params[3].split('=')[1])\n",
    "    Rsh = float(Params[4].split('=')[1])\n",
    "    n = float(Params[5].split('=')[1])\n",
    "    return I, V, Isc, Voc, FF, Rs, Rsh, n\n",
    "\n",
    "def get_IV_dark(filename):\n",
    "    IV = np.loadtxt(filename, dtype=\"float\" , delimiter=',', skiprows=3)\n",
    "    I = IV[:,1]\n",
    "    V = IV[:,0]\n",
    "    return I, V\n",
    "\n",
    "def get_Angle_Isc(filename):\n",
    "    data = np.loadtxt(filename, dtype=\"float\" , delimiter=',', skiprows=2)\n",
    "    angle = data[:,0]\n",
    "    Isc = data[:,1]*10**6\n",
    "    return angle, Isc\n",
    "    "
   ]
  },
  {
   "cell_type": "code",
   "execution_count": 15,
   "metadata": {},
   "outputs": [
    {
     "data": {
      "text/plain": [
       "<Figure size 640x480 with 0 Axes>"
      ]
     },
     "metadata": {},
     "output_type": "display_data"
    }
   ],
   "source": [
    "#open all files in the data folder that start with Light IV Curve\n",
    "path = os.path.join(os.getcwd(), 'data')\n",
    "outpath = os.path.join(os.getcwd(), 'plots')\n",
    "files = os.listdir(path)\n",
    "lightFiles = [f for f in files if f.startswith('Light IV Curve')]\n",
    "for file in lightFiles:\n",
    "    I, V, Isc, Voc, FF, Rs, Rsh, n = get_IV_light(os.path.join(path, file))\n",
    "    plt.plot(V, I, 'o', markersize=2)\n",
    "    plt.xlabel('Voltage (V)')\n",
    "    plt.ylabel('Current (A)')\n",
    "    plt.grid(True)\n",
    "    #add the parameters to the plot in the upper left corner\n",
    "    plt.text(0.05, 0.95, '$I_{{sc}}$ = {:.0f} $\\mu$A \\n$V_{{oc}}$ = {:.3f} V \\nFF = {:.3f} \\n$R_s$ = {:.0f} $\\Omega$ \\n$R_{{sh}}$ = {:.1f} K$\\Omega$ \\n$\\eta$ = {:.4f}'.format(Isc/10**-6, Voc, FF, Rs, Rsh/1000, n), transform=plt.gca().transAxes, fontsize=10, verticalalignment='top')\n",
    "    plt.savefig(os.path.join(outpath, file[:-4]+\".png\"), dpi = 800)\n",
    "    plt.clf()\n",
    "\n",
    "darkFiles = [f for f in files if f.startswith('Dark IV Curve')]\n",
    "for file in darkFiles:\n",
    "    I, V = get_IV_dark(os.path.join(path, file))\n",
    "    plt.plot(V, I, 'o', markersize=2)\n",
    "    plt.xlabel('Voltage (V)')\n",
    "    plt.ylabel('Current (A)')\n",
    "    plt.grid(True)\n",
    "    plt.savefig(os.path.join(outpath, file[:-4]+\".png\"), dpi= 800)\n",
    "    plt.clf()\n",
    "\n",
    "incidenceFiles = [f for f in files if f.startswith('Intensity vs Incidence')]\n",
    "for file in incidenceFiles:\n",
    "    angle, Isc = get_Angle_Isc(os.path.join(path, file))\n",
    "    plt.plot(angle, Isc, 'o', markersize=2)\n",
    "    plt.xlabel('Angle of Incidence ($^\\circ$)')\n",
    "    plt.ylabel('$I_{sc}$ ($\\mu$A)')\n",
    "    plt.grid(True)\n",
    "    plt.savefig(os.path.join(outpath, file[:-4]+\".png\"), dpi= 800)\n",
    "    plt.clf()\n"
   ]
  }
 ],
 "metadata": {
  "kernelspec": {
   "display_name": "Python 3",
   "language": "python",
   "name": "python3"
  },
  "language_info": {
   "codemirror_mode": {
    "name": "ipython",
    "version": 3
   },
   "file_extension": ".py",
   "mimetype": "text/x-python",
   "name": "python",
   "nbconvert_exporter": "python",
   "pygments_lexer": "ipython3",
   "version": "3.11.1"
  },
  "orig_nbformat": 4,
  "vscode": {
   "interpreter": {
    "hash": "ebfc0a8d552866b0d59eba665220a57de3bc06f3ac643b8bef38dd8f66781fdd"
   }
  }
 },
 "nbformat": 4,
 "nbformat_minor": 2
}
